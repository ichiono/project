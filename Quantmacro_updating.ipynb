{
  "nbformat": 4,
  "nbformat_minor": 0,
  "metadata": {
    "colab": {
      "provenance": [],
      "include_colab_link": true
    },
    "kernelspec": {
      "name": "python3",
      "display_name": "Python 3"
    },
    "language_info": {
      "name": "python"
    }
  },
  "cells": [
    {
      "cell_type": "markdown",
      "metadata": {
        "id": "view-in-github",
        "colab_type": "text"
      },
      "source": [
        "<a href=\"https://colab.research.google.com/github/ichiono/project/blob/main/Quantmacro_updating.ipynb\" target=\"_parent\"><img src=\"https://colab.research.google.com/assets/colab-badge.svg\" alt=\"Open In Colab\"/></a>"
      ]
    },
    {
      "cell_type": "code",
      "execution_count": 26,
      "metadata": {
        "id": "FxowQpTEVD91",
        "outputId": "725cc1b5-ab35-4818-db50-d45f66e7c91b",
        "colab": {
          "base_uri": "https://localhost:8080/",
          "height": 137
        }
      },
      "outputs": [
        {
          "output_type": "error",
          "ename": "SyntaxError",
          "evalue": "ignored",
          "traceback": [
            "\u001b[0;36m  File \u001b[0;32m\"<ipython-input-26-077a26ac5ecc>\"\u001b[0;36m, line \u001b[0;32m20\u001b[0m\n\u001b[0;31m    z_low = (state_space[j] - rho;state_space[0] - d/2 ) / sigma\u001b[0m\n\u001b[0m                                 ^\u001b[0m\n\u001b[0;31mSyntaxError\u001b[0m\u001b[0;31m:\u001b[0m invalid syntax\n"
          ]
        }
      ],
      "source": [
        "import numpy as np\n",
        "from scipy.stats import norm\n",
        "\n",
        "n = 5\n",
        "sigma = 0.1\n",
        "mu = 0 # 平均を表す\n",
        "rho = 0.9\n",
        "\n",
        "state_space = np.linspace(mu-sigma, mu+sigma, n)\n",
        "\n",
        "d = (state_space[n-1] - state_space[0] / (n-1))\n",
        "\n",
        "transition_matrix = np.zeros((n, n))\n",
        "\n",
        "# transition_matrix[0,0] = norm.cdf\n",
        "\n",
        "transition_matrix[0,0] = norm.cdf((state_space[0] +  d/2 - rho+state_space[0])/sigma)\n",
        "\n",
        "z=high = (state_space[j] - rho+state_space[0] + d/2) / sigma\n",
        "z_low = (state_space[j] - rho;state_space[0] - d/2 ) / sigma\n",
        "transiion_matrix[0, j] = norm.cdf(z=high) - norm.cdf(z_low)\n"
      ]
    }
  ]
}