{
  "cells": [
    {
      "cell_type": "markdown",
      "metadata": {
        "id": "view-in-github",
        "colab_type": "text"
      },
      "source": [
        "<a href=\"https://colab.research.google.com/github/ichiono/project/blob/main/growth_comp_2023.ipynb\" target=\"_parent\"><img src=\"https://colab.research.google.com/assets/colab-badge.svg\" alt=\"Open In Colab\"/></a>"
      ]
    },
    {
      "cell_type": "code",
      "execution_count": 18,
      "metadata": {
        "colab": {
          "base_uri": "https://localhost:8080/"
        },
        "id": "7xY0PSws21Ex",
        "outputId": "2cb880af-8063-4e4e-e384-e474a20cbc1c"
      },
      "outputs": [
        {
          "output_type": "stream",
          "name": "stdout",
          "text": [
            "                    g         a         c         t         s  Growth Rate  \\\n",
            "countrycode                                                                  \n",
            "AUS          1.066494  0.407874  0.751096  0.315398  0.592126     1.066494   \n",
            "AUT          0.819751  0.417199  0.662091  0.157660  0.582801     0.819751   \n",
            "CAN          0.887700  0.346190  0.634013  0.253687  0.653810     0.887700   \n",
            "DEU          0.661055  0.370730  0.437718  0.223337  0.629270     0.661055   \n",
            "FRA          0.829236  0.381194  0.568817  0.260418  0.618806     0.829236   \n",
            "GBR          1.015544  0.412993  0.573001  0.442543  0.587007     1.015544   \n",
            "ITA         -0.037181  0.484835  0.533835 -0.571016  0.515165    -0.037181   \n",
            "\n",
            "             TFP Growth  Capital Deeping  TFF share  Capital Share  \n",
            "countrycode                                                         \n",
            "AUS            0.315398         0.751096   0.592126       0.407874  \n",
            "AUT            0.157660         0.662091   0.582801       0.417199  \n",
            "CAN            0.253687         0.634013   0.653810       0.346190  \n",
            "DEU            0.223337         0.437718   0.629270       0.370730  \n",
            "FRA            0.260418         0.568817   0.618806       0.381194  \n",
            "GBR            0.442543         0.573001   0.587007       0.412993  \n",
            "ITA           -0.571016         0.533835   0.515165       0.484835  \n"
          ]
        }
      ],
      "source": [
        "import pandas as pd\n",
        "import numpy as np\n",
        "\n",
        "\n",
        "# Load data\n",
        "#pwt90 = pd.read_stata('https://www.rug.nl/ggdc/docs/pwt90.dta')\n",
        "pwt1001 = pd.read_stata('https://dataverse.nl/api/access/datafile/354098')\n",
        "\n",
        "# Filter and select relevant columns\n",
        "data = pwt1001.loc[pwt1001['country'].isin([\"France\",\"Germany\",\"Canada\",\"Italy\",\"United Kingdom\",\"America\",\"Australia\", \"Austria\"])][['year', 'countrycode', 'rgdpna', 'rkna', 'emp', 'labsh']]\n",
        "data = data.loc[(data['year'] >= 1995) & (data['year'] <= 2019)].dropna()\n",
        "\n",
        "\n",
        "# Calculate additional columns\n",
        "data['y_pc'] = np.log(data['rgdpna'] / data['emp'])  # GDP per worker\n",
        "data['k_pc'] = np.log(data['rkna'] / data['emp'])  # Capital per worker\n",
        "data['a'] = 1 - data['labsh']  # Capital share\n",
        "\n",
        "\n",
        "# Order by year\n",
        "data = data.sort_values('year')\n",
        "\n",
        "# Group by isocode\n",
        "grouped_data = data.groupby('countrycode')\n",
        "\n",
        "# Calculate growth rates and Solow residual\n",
        "data['g'] = (grouped_data['y_pc'].diff() * 100)  # Growth rate of GDP per capita\n",
        "data['c'] = (grouped_data['k_pc'].diff() * 100 * data['a'])  #Capital Deeping\n",
        "data['t'] = data['g'] - data['c']  #TFP Growth\n",
        "data['s'] = 1 - data['a']\n",
        "\n",
        "\n",
        "\n",
        "\n",
        "# Remove missing values\n",
        "data = data.dropna()\n",
        "\n",
        "# Calculate summary statistics\n",
        "summary = data.groupby('countrycode').agg({'g': 'mean',\n",
        "                                       'a': \"mean\",'c': \"mean\",'t': \"mean\",'s': \"mean\"})\n",
        "\n",
        "# Calculate additional summary statistics\n",
        "summary['Growth Rate'] = summary['g']\n",
        "summary['TFP Growth'] = summary['t']\n",
        "summary['Capital Deeping'] = summary['c']\n",
        "summary['TFF share'] = summary['s']\n",
        "summary['Capital Share'] = summary['a']\n",
        "\n",
        "# Print output\n",
        "print(summary)"
      ]
    }
  ],
  "metadata": {
    "colab": {
      "provenance": [],
      "include_colab_link": true
    },
    "kernelspec": {
      "display_name": "Python 3",
      "name": "python3"
    },
    "language_info": {
      "name": "python"
    }
  },
  "nbformat": 4,
  "nbformat_minor": 0
}