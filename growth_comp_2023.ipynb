{
  "cells": [
    {
      "cell_type": "markdown",
      "metadata": {
        "id": "view-in-github",
        "colab_type": "text"
      },
      "source": [
        "<a href=\"https://colab.research.google.com/github/ichiono/project/blob/main/growth_comp_2023.ipynb\" target=\"_parent\"><img src=\"https://colab.research.google.com/assets/colab-badge.svg\" alt=\"Open In Colab\"/></a>"
      ]
    },
    {
      "cell_type": "code",
      "execution_count": 5,
      "metadata": {
        "colab": {
          "base_uri": "https://localhost:8080/"
        },
        "id": "7xY0PSws21Ex",
        "outputId": "c51b89e9-c7b0-4bcc-e858-1eb5755c4ae1"
      },
      "outputs": [
        {
          "metadata": {
            "tags": null
          },
          "name": "stdout",
          "output_type": "stream",
          "text": [
            "                    g         a  Growth Rate  TFP Growth  Capital Deeping  \\\n",
            "countrycode                                                                 \n",
            "AUS          1.066494  0.407874     1.066494    0.407874         1.066494   \n",
            "AUT          0.819751  0.417199     0.819751    0.417199         0.819751   \n",
            "CAN          0.887700  0.346190     0.887700    0.346190         0.887700   \n",
            "DEU          0.661055  0.370730     0.661055    0.370730         0.661055   \n",
            "FRA          0.829236  0.381194     0.829236    0.381194         0.829236   \n",
            "GBR          1.015544  0.412993     1.015544    0.412993         1.015544   \n",
            "ITA         -0.037181  0.484835    -0.037181    0.484835        -0.037181   \n",
            "\n",
            "             TFP Share  Capital Share  \n",
            "countrycode                            \n",
            "AUS           1.066494       1.066494  \n",
            "AUT           0.819751       0.819751  \n",
            "CAN           0.887700       0.887700  \n",
            "DEU           0.661055       0.661055  \n",
            "FRA           0.829236       0.829236  \n",
            "GBR           1.015544       1.015544  \n",
            "ITA          -0.037181      -0.037181  \n"
          ]
        }
      ],
      "source": [
        "import pandas as pd\n",
        "import numpy as np\n",
        "\n",
        "\n",
        "# Load data\n",
        "#pwt90 = pd.read_stata('https://www.rug.nl/ggdc/docs/pwt90.dta')\n",
        "pwt1001 = pd.read_stata('https://dataverse.nl/api/access/datafile/354098')\n",
        "\n",
        "# Filter and select relevant columns\n",
        "data = pwt1001.loc[pwt1001['country'].isin([\"France\",\"Germany\",\"Canada\",\"Italy\",\"United Kingdom\",\"America\",\"Australia\", \"Austria\"])][['year', 'countrycode', 'rgdpna', 'rkna', 'emp', 'labsh']]\n",
        "data = data.loc[(data['year'] >= 1995) & (data['year'] <= 2019)].dropna()\n",
        "\n",
        "# Calculate additional columns\n",
        "data['y_pc'] = np.log(data['rgdpna'] / data['emp'])  # GDP per worker\n",
        "#TFP per worker\n",
        "data['k_pc'] = np.log(data['rkna'] / data['emp'])  # Capital per worker\n",
        "data['a'] = 1 - data['labsh']  # Capital share\n",
        "\n",
        "\n",
        "# Order by year\n",
        "data = data.sort_values('year')\n",
        "\n",
        "# Group by isocode\n",
        "grouped_data = data.groupby('countrycode')\n",
        "\n",
        "# Calculate growth rates and Solow residual\n",
        "data['g'] = (grouped_data['y_pc'].diff() * 100)  # Growth rate of GDP per capita\n",
        "\n",
        "# Remove missing values\n",
        "data = data.dropna()\n",
        "\n",
        "# Calculate summary statistics\n",
        "summary = data.groupby('countrycode').agg({'g': 'mean',\n",
        "                                       'a': \"mean\"})\n",
        "\n",
        "# Calculate additional summary statistics\n",
        "summary['Growth Rate'] = summary['g']\n",
        "summary['TFP Growth'] = summary['a']\n",
        "summary['Capital Deeping'] = summary['g']\n",
        "summary['TFP Share'] = summary['g']\n",
        "summary['Capital Share'] = summary['g']\n",
        "\n",
        "# Print output\n",
        "print(summary)"
      ]
    }
  ],
  "metadata": {
    "colab": {
      "provenance": [],
      "include_colab_link": true
    },
    "kernelspec": {
      "display_name": "Python 3",
      "name": "python3"
    },
    "language_info": {
      "name": "python"
    }
  },
  "nbformat": 4,
  "nbformat_minor": 0
}